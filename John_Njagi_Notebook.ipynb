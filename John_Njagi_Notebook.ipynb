{
  "nbformat": 4,
  "nbformat_minor": 0,
  "metadata": {
    "colab": {
      "name": "John Njagi Notebook",
      "provenance": [],
      "authorship_tag": "ABX9TyM/YA3hmCcme/XqFzY26nEz",
      "include_colab_link": true
    },
    "kernelspec": {
      "name": "python3",
      "display_name": "Python 3"
    },
    "language_info": {
      "name": "python"
    }
  },
  "cells": [
    {
      "cell_type": "markdown",
      "metadata": {
        "id": "view-in-github",
        "colab_type": "text"
      },
      "source": [
        "<a href=\"https://colab.research.google.com/github/BrianGakungi/Brian-Njagi-Autolib-Analysis/blob/main/John_Njagi_Notebook.ipynb\" target=\"_parent\"><img src=\"https://colab.research.google.com/assets/colab-badge.svg\" alt=\"Open In Colab\"/></a>"
      ]
    },
    {
      "cell_type": "code",
      "metadata": {
        "id": "DJ0T1bStF0d8"
      },
      "source": [
        "# import pandas and numpy\n",
        "import pandas as pd\n",
        "import numpy as np\n"
      ],
      "execution_count": null,
      "outputs": []
    },
    {
      "cell_type": "code",
      "metadata": {
        "colab": {
          "base_uri": "https://localhost:8080/",
          "height": 452
        },
        "id": "Z08l-0e6QLUU",
        "outputId": "fc9afd98-b6c5-4567-ddf0-6a930ae56e39"
      },
      "source": [
        "# Loading dataset and previewing\n",
        "df = pd.read_csv('/content/Autolib_dataset.csv')\n",
        "df.head()"
      ],
      "execution_count": null,
      "outputs": [
        {
          "output_type": "execute_result",
          "data": {
            "text/html": [
              "<div>\n",
              "<style scoped>\n",
              "    .dataframe tbody tr th:only-of-type {\n",
              "        vertical-align: middle;\n",
              "    }\n",
              "\n",
              "    .dataframe tbody tr th {\n",
              "        vertical-align: top;\n",
              "    }\n",
              "\n",
              "    .dataframe thead th {\n",
              "        text-align: right;\n",
              "    }\n",
              "</style>\n",
              "<table border=\"1\" class=\"dataframe\">\n",
              "  <thead>\n",
              "    <tr style=\"text-align: right;\">\n",
              "      <th></th>\n",
              "      <th>Address</th>\n",
              "      <th>Cars</th>\n",
              "      <th>Bluecar counter</th>\n",
              "      <th>Utilib counter</th>\n",
              "      <th>Utilib 1.4 counter</th>\n",
              "      <th>Charge Slots</th>\n",
              "      <th>Charging Status</th>\n",
              "      <th>City</th>\n",
              "      <th>Displayed comment</th>\n",
              "      <th>ID</th>\n",
              "      <th>Kind</th>\n",
              "      <th>Geo point</th>\n",
              "      <th>Postal code</th>\n",
              "      <th>Public name</th>\n",
              "      <th>Rental status</th>\n",
              "      <th>Scheduled at</th>\n",
              "      <th>Slots</th>\n",
              "      <th>Station type</th>\n",
              "      <th>Status</th>\n",
              "      <th>Subscription status</th>\n",
              "      <th>year</th>\n",
              "      <th>month</th>\n",
              "      <th>day</th>\n",
              "      <th>hour</th>\n",
              "      <th>minute</th>\n",
              "    </tr>\n",
              "  </thead>\n",
              "  <tbody>\n",
              "    <tr>\n",
              "      <th>0</th>\n",
              "      <td>2 Avenue de Suffren</td>\n",
              "      <td>0</td>\n",
              "      <td>0</td>\n",
              "      <td>0</td>\n",
              "      <td>0</td>\n",
              "      <td>0</td>\n",
              "      <td>nonexistent</td>\n",
              "      <td>Paris</td>\n",
              "      <td>NaN</td>\n",
              "      <td>paris-suffren-2</td>\n",
              "      <td>STATION</td>\n",
              "      <td>48.857, 2.2917</td>\n",
              "      <td>75015</td>\n",
              "      <td>Paris/Suffren/2</td>\n",
              "      <td>operational</td>\n",
              "      <td>NaN</td>\n",
              "      <td>2</td>\n",
              "      <td>station</td>\n",
              "      <td>ok</td>\n",
              "      <td>nonexistent</td>\n",
              "      <td>2018</td>\n",
              "      <td>4</td>\n",
              "      <td>8</td>\n",
              "      <td>11</td>\n",
              "      <td>43</td>\n",
              "    </tr>\n",
              "    <tr>\n",
              "      <th>1</th>\n",
              "      <td>145 Rue Raymond Losserand</td>\n",
              "      <td>6</td>\n",
              "      <td>6</td>\n",
              "      <td>0</td>\n",
              "      <td>0</td>\n",
              "      <td>0</td>\n",
              "      <td>operational</td>\n",
              "      <td>Paris</td>\n",
              "      <td>NaN</td>\n",
              "      <td>paris-raymondlosserand-145</td>\n",
              "      <td>STATION</td>\n",
              "      <td>48.83126, 2.313088</td>\n",
              "      <td>75014</td>\n",
              "      <td>Paris/Raymond Losserand/145</td>\n",
              "      <td>operational</td>\n",
              "      <td>NaN</td>\n",
              "      <td>0</td>\n",
              "      <td>station</td>\n",
              "      <td>ok</td>\n",
              "      <td>nonexistent</td>\n",
              "      <td>2018</td>\n",
              "      <td>4</td>\n",
              "      <td>6</td>\n",
              "      <td>7</td>\n",
              "      <td>24</td>\n",
              "    </tr>\n",
              "    <tr>\n",
              "      <th>2</th>\n",
              "      <td>2 Avenue John Fitzgerald Kennedy</td>\n",
              "      <td>3</td>\n",
              "      <td>3</td>\n",
              "      <td>0</td>\n",
              "      <td>2</td>\n",
              "      <td>0</td>\n",
              "      <td>operational</td>\n",
              "      <td>Le Bourget</td>\n",
              "      <td>NaN</td>\n",
              "      <td>lebourget-johnfitzgeraldkennedy-2</td>\n",
              "      <td>STATION</td>\n",
              "      <td>48.938103, 2.4286035</td>\n",
              "      <td>93350</td>\n",
              "      <td>Le Bourget/John Fitzgerald Kennedy/2</td>\n",
              "      <td>operational</td>\n",
              "      <td>NaN</td>\n",
              "      <td>1</td>\n",
              "      <td>station</td>\n",
              "      <td>ok</td>\n",
              "      <td>nonexistent</td>\n",
              "      <td>2018</td>\n",
              "      <td>4</td>\n",
              "      <td>3</td>\n",
              "      <td>20</td>\n",
              "      <td>14</td>\n",
              "    </tr>\n",
              "    <tr>\n",
              "      <th>3</th>\n",
              "      <td>51 Rue EugÃ¨ne OudinÃ©</td>\n",
              "      <td>3</td>\n",
              "      <td>3</td>\n",
              "      <td>1</td>\n",
              "      <td>0</td>\n",
              "      <td>1</td>\n",
              "      <td>operational</td>\n",
              "      <td>Paris</td>\n",
              "      <td>NaN</td>\n",
              "      <td>paris-eugeneoudine-51</td>\n",
              "      <td>STATION</td>\n",
              "      <td>48.8250327, 2.3725162</td>\n",
              "      <td>75013</td>\n",
              "      <td>Paris/EugÃ¨ne OudinÃ©/51</td>\n",
              "      <td>operational</td>\n",
              "      <td>NaN</td>\n",
              "      <td>2</td>\n",
              "      <td>station</td>\n",
              "      <td>ok</td>\n",
              "      <td>nonexistent</td>\n",
              "      <td>2018</td>\n",
              "      <td>4</td>\n",
              "      <td>4</td>\n",
              "      <td>4</td>\n",
              "      <td>37</td>\n",
              "    </tr>\n",
              "    <tr>\n",
              "      <th>4</th>\n",
              "      <td>6 avenue de la Porte de Champerret</td>\n",
              "      <td>3</td>\n",
              "      <td>3</td>\n",
              "      <td>0</td>\n",
              "      <td>0</td>\n",
              "      <td>0</td>\n",
              "      <td>nonexistent</td>\n",
              "      <td>Paris</td>\n",
              "      <td>NaN</td>\n",
              "      <td>paris-portedechamperret-6</td>\n",
              "      <td>PARKING</td>\n",
              "      <td>48.8862632, 2.2874511</td>\n",
              "      <td>75017</td>\n",
              "      <td>Paris/Porte de Champerret/6</td>\n",
              "      <td>operational</td>\n",
              "      <td>NaN</td>\n",
              "      <td>3</td>\n",
              "      <td>station</td>\n",
              "      <td>ok</td>\n",
              "      <td>nonexistent</td>\n",
              "      <td>2018</td>\n",
              "      <td>4</td>\n",
              "      <td>8</td>\n",
              "      <td>17</td>\n",
              "      <td>23</td>\n",
              "    </tr>\n",
              "  </tbody>\n",
              "</table>\n",
              "</div>"
            ],
            "text/plain": [
              "                              Address  Cars  Bluecar counter  ...  day  hour  minute\n",
              "0                 2 Avenue de Suffren     0                0  ...    8    11      43\n",
              "1           145 Rue Raymond Losserand     6                6  ...    6     7      24\n",
              "2    2 Avenue John Fitzgerald Kennedy     3                3  ...    3    20      14\n",
              "3              51 Rue EugÃ¨ne OudinÃ©     3                3  ...    4     4      37\n",
              "4  6 avenue de la Porte de Champerret     3                3  ...    8    17      23\n",
              "\n",
              "[5 rows x 25 columns]"
            ]
          },
          "metadata": {},
          "execution_count": 10
        }
      ]
    },
    {
      "cell_type": "markdown",
      "metadata": {
        "id": "C6J-tKXITQTy"
      },
      "source": [
        "**CLEANING OUR DATASET :**"
      ]
    },
    {
      "cell_type": "markdown",
      "metadata": {
        "id": "7aZjfbNjTkjH"
      },
      "source": [
        "**1. VALIDITY**"
      ]
    },
    {
      "cell_type": "code",
      "metadata": {
        "id": "n4hpUR9eTr2u"
      },
      "source": [
        "# Drop irrelevant columns\n",
        "df.drop([\"Displayed comment\", \"Scheduled at\"], axis=1, inplace=True)"
      ],
      "execution_count": null,
      "outputs": []
    },
    {
      "cell_type": "code",
      "metadata": {
        "colab": {
          "base_uri": "https://localhost:8080/",
          "height": 452
        },
        "id": "2R2gwd58VOxy",
        "outputId": "b8a7ecf9-1e79-45f6-ff17-be4b2df41d80"
      },
      "source": [
        "df.head()"
      ],
      "execution_count": null,
      "outputs": [
        {
          "output_type": "execute_result",
          "data": {
            "text/html": [
              "<div>\n",
              "<style scoped>\n",
              "    .dataframe tbody tr th:only-of-type {\n",
              "        vertical-align: middle;\n",
              "    }\n",
              "\n",
              "    .dataframe tbody tr th {\n",
              "        vertical-align: top;\n",
              "    }\n",
              "\n",
              "    .dataframe thead th {\n",
              "        text-align: right;\n",
              "    }\n",
              "</style>\n",
              "<table border=\"1\" class=\"dataframe\">\n",
              "  <thead>\n",
              "    <tr style=\"text-align: right;\">\n",
              "      <th></th>\n",
              "      <th>Address</th>\n",
              "      <th>Cars</th>\n",
              "      <th>Bluecar counter</th>\n",
              "      <th>Utilib counter</th>\n",
              "      <th>Utilib 1.4 counter</th>\n",
              "      <th>Charge Slots</th>\n",
              "      <th>Charging Status</th>\n",
              "      <th>City</th>\n",
              "      <th>ID</th>\n",
              "      <th>Kind</th>\n",
              "      <th>Geo point</th>\n",
              "      <th>Postal code</th>\n",
              "      <th>Public name</th>\n",
              "      <th>Rental status</th>\n",
              "      <th>Slots</th>\n",
              "      <th>Station type</th>\n",
              "      <th>Status</th>\n",
              "      <th>Subscription status</th>\n",
              "      <th>year</th>\n",
              "      <th>month</th>\n",
              "      <th>day</th>\n",
              "      <th>hour</th>\n",
              "      <th>minute</th>\n",
              "    </tr>\n",
              "  </thead>\n",
              "  <tbody>\n",
              "    <tr>\n",
              "      <th>0</th>\n",
              "      <td>2 Avenue de Suffren</td>\n",
              "      <td>0</td>\n",
              "      <td>0</td>\n",
              "      <td>0</td>\n",
              "      <td>0</td>\n",
              "      <td>0</td>\n",
              "      <td>nonexistent</td>\n",
              "      <td>Paris</td>\n",
              "      <td>paris-suffren-2</td>\n",
              "      <td>STATION</td>\n",
              "      <td>48.857, 2.2917</td>\n",
              "      <td>75015</td>\n",
              "      <td>Paris/Suffren/2</td>\n",
              "      <td>operational</td>\n",
              "      <td>2</td>\n",
              "      <td>station</td>\n",
              "      <td>ok</td>\n",
              "      <td>nonexistent</td>\n",
              "      <td>2018</td>\n",
              "      <td>4</td>\n",
              "      <td>8</td>\n",
              "      <td>11</td>\n",
              "      <td>43</td>\n",
              "    </tr>\n",
              "    <tr>\n",
              "      <th>1</th>\n",
              "      <td>145 Rue Raymond Losserand</td>\n",
              "      <td>6</td>\n",
              "      <td>6</td>\n",
              "      <td>0</td>\n",
              "      <td>0</td>\n",
              "      <td>0</td>\n",
              "      <td>operational</td>\n",
              "      <td>Paris</td>\n",
              "      <td>paris-raymondlosserand-145</td>\n",
              "      <td>STATION</td>\n",
              "      <td>48.83126, 2.313088</td>\n",
              "      <td>75014</td>\n",
              "      <td>Paris/Raymond Losserand/145</td>\n",
              "      <td>operational</td>\n",
              "      <td>0</td>\n",
              "      <td>station</td>\n",
              "      <td>ok</td>\n",
              "      <td>nonexistent</td>\n",
              "      <td>2018</td>\n",
              "      <td>4</td>\n",
              "      <td>6</td>\n",
              "      <td>7</td>\n",
              "      <td>24</td>\n",
              "    </tr>\n",
              "    <tr>\n",
              "      <th>2</th>\n",
              "      <td>2 Avenue John Fitzgerald Kennedy</td>\n",
              "      <td>3</td>\n",
              "      <td>3</td>\n",
              "      <td>0</td>\n",
              "      <td>2</td>\n",
              "      <td>0</td>\n",
              "      <td>operational</td>\n",
              "      <td>Le Bourget</td>\n",
              "      <td>lebourget-johnfitzgeraldkennedy-2</td>\n",
              "      <td>STATION</td>\n",
              "      <td>48.938103, 2.4286035</td>\n",
              "      <td>93350</td>\n",
              "      <td>Le Bourget/John Fitzgerald Kennedy/2</td>\n",
              "      <td>operational</td>\n",
              "      <td>1</td>\n",
              "      <td>station</td>\n",
              "      <td>ok</td>\n",
              "      <td>nonexistent</td>\n",
              "      <td>2018</td>\n",
              "      <td>4</td>\n",
              "      <td>3</td>\n",
              "      <td>20</td>\n",
              "      <td>14</td>\n",
              "    </tr>\n",
              "    <tr>\n",
              "      <th>3</th>\n",
              "      <td>51 Rue EugÃ¨ne OudinÃ©</td>\n",
              "      <td>3</td>\n",
              "      <td>3</td>\n",
              "      <td>1</td>\n",
              "      <td>0</td>\n",
              "      <td>1</td>\n",
              "      <td>operational</td>\n",
              "      <td>Paris</td>\n",
              "      <td>paris-eugeneoudine-51</td>\n",
              "      <td>STATION</td>\n",
              "      <td>48.8250327, 2.3725162</td>\n",
              "      <td>75013</td>\n",
              "      <td>Paris/EugÃ¨ne OudinÃ©/51</td>\n",
              "      <td>operational</td>\n",
              "      <td>2</td>\n",
              "      <td>station</td>\n",
              "      <td>ok</td>\n",
              "      <td>nonexistent</td>\n",
              "      <td>2018</td>\n",
              "      <td>4</td>\n",
              "      <td>4</td>\n",
              "      <td>4</td>\n",
              "      <td>37</td>\n",
              "    </tr>\n",
              "    <tr>\n",
              "      <th>4</th>\n",
              "      <td>6 avenue de la Porte de Champerret</td>\n",
              "      <td>3</td>\n",
              "      <td>3</td>\n",
              "      <td>0</td>\n",
              "      <td>0</td>\n",
              "      <td>0</td>\n",
              "      <td>nonexistent</td>\n",
              "      <td>Paris</td>\n",
              "      <td>paris-portedechamperret-6</td>\n",
              "      <td>PARKING</td>\n",
              "      <td>48.8862632, 2.2874511</td>\n",
              "      <td>75017</td>\n",
              "      <td>Paris/Porte de Champerret/6</td>\n",
              "      <td>operational</td>\n",
              "      <td>3</td>\n",
              "      <td>station</td>\n",
              "      <td>ok</td>\n",
              "      <td>nonexistent</td>\n",
              "      <td>2018</td>\n",
              "      <td>4</td>\n",
              "      <td>8</td>\n",
              "      <td>17</td>\n",
              "      <td>23</td>\n",
              "    </tr>\n",
              "  </tbody>\n",
              "</table>\n",
              "</div>"
            ],
            "text/plain": [
              "                              Address  Cars  Bluecar counter  ...  day  hour  minute\n",
              "0                 2 Avenue de Suffren     0                0  ...    8    11      43\n",
              "1           145 Rue Raymond Losserand     6                6  ...    6     7      24\n",
              "2    2 Avenue John Fitzgerald Kennedy     3                3  ...    3    20      14\n",
              "3              51 Rue EugÃ¨ne OudinÃ©     3                3  ...    4     4      37\n",
              "4  6 avenue de la Porte de Champerret     3                3  ...    8    17      23\n",
              "\n",
              "[5 rows x 23 columns]"
            ]
          },
          "metadata": {},
          "execution_count": 86
        }
      ]
    },
    {
      "cell_type": "code",
      "metadata": {
        "id": "cFuk9f_YVRNz"
      },
      "source": [
        "# Remove trailing and leading spaces\n",
        "df['Address'] = df['Address'].str.strip()\n",
        "df['City'] = df['City'].str.strip()\n",
        "df['ID'] = df['ID'].str.strip()\n",
        "df['Public name'] = df['Public name'].str.strip()"
      ],
      "execution_count": null,
      "outputs": []
    },
    {
      "cell_type": "markdown",
      "metadata": {
        "id": "szDShddXc0XG"
      },
      "source": [
        "**2. COMPLETENESS**\n"
      ]
    },
    {
      "cell_type": "code",
      "metadata": {
        "colab": {
          "base_uri": "https://localhost:8080/"
        },
        "id": "7ii9gD32c90Q",
        "outputId": "8fe408ab-a210-427b-bdde-9563d3303d3a"
      },
      "source": [
        "# check for missing values\n",
        "df.isnull().sum()"
      ],
      "execution_count": null,
      "outputs": [
        {
          "output_type": "execute_result",
          "data": {
            "text/plain": [
              "Address                0\n",
              "Cars                   0\n",
              "Bluecar counter        0\n",
              "Utilib counter         0\n",
              "Utilib 1.4 counter     0\n",
              "Charge Slots           0\n",
              "Charging Status        0\n",
              "City                   0\n",
              "ID                     0\n",
              "Kind                   0\n",
              "Geo point              0\n",
              "Postal code            0\n",
              "Public name            0\n",
              "Rental status          0\n",
              "Slots                  0\n",
              "Station type           0\n",
              "Status                 0\n",
              "Subscription status    0\n",
              "year                   0\n",
              "month                  0\n",
              "day                    0\n",
              "hour                   0\n",
              "minute                 0\n",
              "dtype: int64"
            ]
          },
          "metadata": {},
          "execution_count": 25
        }
      ]
    },
    {
      "cell_type": "code",
      "metadata": {
        "colab": {
          "base_uri": "https://localhost:8080/"
        },
        "id": "DD5slH77ee9u",
        "outputId": "0e78ad63-df12-47ac-bed0-91a411fe03e8"
      },
      "source": [
        "# drop duplicates\n",
        "df.drop_duplicates\n"
      ],
      "execution_count": null,
      "outputs": [
        {
          "output_type": "execute_result",
          "data": {
            "text/plain": [
              "<bound method DataFrame.drop_duplicates of                                  Address  Cars  ...  hour  minute\n",
              "0                    2 Avenue de Suffren     0  ...    11      43\n",
              "1              145 Rue Raymond Losserand     6  ...     7      24\n",
              "2       2 Avenue John Fitzgerald Kennedy     3  ...    20      14\n",
              "3                 51 Rue EugÃ¨ne OudinÃ©     3  ...     4      37\n",
              "4     6 avenue de la Porte de Champerret     3  ...    17      23\n",
              "...                                  ...   ...  ...   ...     ...\n",
              "4995                 8 avenue MÃ©nelotte     2  ...    11      26\n",
              "4996                   37 rue de Dantzig     4  ...    16      56\n",
              "4997                      142 rue du Bac     1  ...     7       1\n",
              "4998         2 avenue du Val de Fontenay     2  ...    17      27\n",
              "4999                 5 Rue Henry Brisson     4  ...    10       2\n",
              "\n",
              "[5000 rows x 23 columns]>"
            ]
          },
          "metadata": {},
          "execution_count": 31
        }
      ]
    },
    {
      "cell_type": "markdown",
      "metadata": {
        "id": "rulEqV09fLiA"
      },
      "source": [
        "**3. UNIFORMITY**"
      ]
    },
    {
      "cell_type": "code",
      "metadata": {
        "colab": {
          "base_uri": "https://localhost:8080/"
        },
        "id": "ujPB_QIhfQtn",
        "outputId": "6262ee98-b1ec-4239-e2af-3d731e0bf1a9"
      },
      "source": [
        "# checking datatypes\n",
        "df.info()"
      ],
      "execution_count": null,
      "outputs": [
        {
          "output_type": "stream",
          "name": "stdout",
          "text": [
            "<class 'pandas.core.frame.DataFrame'>\n",
            "RangeIndex: 5000 entries, 0 to 4999\n",
            "Data columns (total 23 columns):\n",
            " #   Column               Non-Null Count  Dtype \n",
            "---  ------               --------------  ----- \n",
            " 0   Address              5000 non-null   object\n",
            " 1   Cars                 5000 non-null   int64 \n",
            " 2   Bluecar counter      5000 non-null   int64 \n",
            " 3   Utilib counter       5000 non-null   int64 \n",
            " 4   Utilib 1.4 counter   5000 non-null   int64 \n",
            " 5   Charge Slots         5000 non-null   int64 \n",
            " 6   Charging Status      5000 non-null   object\n",
            " 7   City                 5000 non-null   object\n",
            " 8   ID                   5000 non-null   object\n",
            " 9   Kind                 5000 non-null   object\n",
            " 10  Geo point            5000 non-null   object\n",
            " 11  Postal code          5000 non-null   int64 \n",
            " 12  Public name          5000 non-null   object\n",
            " 13  Rental status        5000 non-null   object\n",
            " 14  Slots                5000 non-null   int64 \n",
            " 15  Station type         5000 non-null   object\n",
            " 16  Status               5000 non-null   object\n",
            " 17  Subscription status  5000 non-null   object\n",
            " 18  year                 5000 non-null   int64 \n",
            " 19  month                5000 non-null   int64 \n",
            " 20  day                  5000 non-null   int64 \n",
            " 21  hour                 5000 non-null   int64 \n",
            " 22  minute               5000 non-null   int64 \n",
            "dtypes: int64(12), object(11)\n",
            "memory usage: 898.6+ KB\n"
          ]
        }
      ]
    },
    {
      "cell_type": "code",
      "metadata": {
        "id": "HSNTM6y7s-Be"
      },
      "source": [
        "# export to csv\n",
        "df.to_csv('df4.csv')"
      ],
      "execution_count": null,
      "outputs": []
    },
    {
      "cell_type": "markdown",
      "metadata": {
        "id": "4zsEmJLEthAB"
      },
      "source": [
        "**CONNECTING TO OUR DATABASE**"
      ]
    },
    {
      "cell_type": "code",
      "metadata": {
        "colab": {
          "base_uri": "https://localhost:8080/",
          "height": 35
        },
        "id": "-B5KCKgatmmu",
        "outputId": "e058ea58-5573-43f5-e0d8-41d49b5909f1"
      },
      "source": [
        "# We will first load the sql extension into our environment\n",
        "#\n",
        "%load_ext sql\n",
        "\n",
        "# Then connect to our in memory sqlite database\n",
        "# NB: This database will cease to exist as soon as the database connection is closed. \n",
        "#\n",
        "%sql sqlite://"
      ],
      "execution_count": null,
      "outputs": [
        {
          "output_type": "execute_result",
          "data": {
            "application/vnd.google.colaboratory.intrinsic+json": {
              "type": "string"
            },
            "text/plain": [
              "'Connected: @None'"
            ]
          },
          "metadata": {},
          "execution_count": 45
        }
      ]
    },
    {
      "cell_type": "code",
      "metadata": {
        "id": "wZtw9cd2trBs"
      },
      "source": [
        "# Importing the pandas library\n",
        "# We will use a function read_csv from pandas to read our datasets as shown\n",
        "#\n",
        "import pandas as pd "
      ],
      "execution_count": null,
      "outputs": []
    },
    {
      "cell_type": "code",
      "metadata": {
        "colab": {
          "base_uri": "https://localhost:8080/",
          "height": 479
        },
        "id": "6xaR3N8ytwsH",
        "outputId": "853f86ef-61d1-4879-b078-bd2a31ce2292"
      },
      "source": [
        "# Loading our table from the respective CSV files\n",
        "# We will export the Households dataset that we have cleaned using python\n",
        "#\n",
        "with open('/content/df4.csv','r') as f:\n",
        "    Electric = pd.read_csv(f, index_col=0, encoding='utf-8')\n",
        "%sql DROP TABLE if EXISTS Electric;\n",
        "%sql PERSIST Electric;\n",
        "%sql SELECT * FROM Electric LIMIT 5;"
      ],
      "execution_count": null,
      "outputs": [
        {
          "output_type": "stream",
          "name": "stdout",
          "text": [
            " * sqlite://\n",
            "Done.\n",
            " * sqlite://\n",
            " * sqlite://\n",
            "Done.\n"
          ]
        },
        {
          "output_type": "execute_result",
          "data": {
            "text/html": [
              "<table>\n",
              "    <thead>\n",
              "        <tr>\n",
              "            <th>index</th>\n",
              "            <th>Address</th>\n",
              "            <th>Cars</th>\n",
              "            <th>Bluecar counter</th>\n",
              "            <th>Utilib counter</th>\n",
              "            <th>Utilib 1.4 counter</th>\n",
              "            <th>Charge Slots</th>\n",
              "            <th>Charging Status</th>\n",
              "            <th>City</th>\n",
              "            <th>ID</th>\n",
              "            <th>Kind</th>\n",
              "            <th>Geo point</th>\n",
              "            <th>Postal code</th>\n",
              "            <th>Public name</th>\n",
              "            <th>Rental status</th>\n",
              "            <th>Slots</th>\n",
              "            <th>Station type</th>\n",
              "            <th>Status</th>\n",
              "            <th>Subscription status</th>\n",
              "            <th>year</th>\n",
              "            <th>month</th>\n",
              "            <th>day</th>\n",
              "            <th>hour</th>\n",
              "            <th>minute</th>\n",
              "        </tr>\n",
              "    </thead>\n",
              "    <tbody>\n",
              "        <tr>\n",
              "            <td>0</td>\n",
              "            <td>2 Avenue de Suffren</td>\n",
              "            <td>0</td>\n",
              "            <td>0</td>\n",
              "            <td>0</td>\n",
              "            <td>0</td>\n",
              "            <td>0</td>\n",
              "            <td>nonexistent</td>\n",
              "            <td>Paris</td>\n",
              "            <td>paris-suffren-2</td>\n",
              "            <td>STATION</td>\n",
              "            <td>48.857, 2.2917</td>\n",
              "            <td>75015</td>\n",
              "            <td>Paris/Suffren/2</td>\n",
              "            <td>operational</td>\n",
              "            <td>2</td>\n",
              "            <td>station</td>\n",
              "            <td>ok</td>\n",
              "            <td>nonexistent</td>\n",
              "            <td>2018</td>\n",
              "            <td>4</td>\n",
              "            <td>8</td>\n",
              "            <td>11</td>\n",
              "            <td>43</td>\n",
              "        </tr>\n",
              "        <tr>\n",
              "            <td>1</td>\n",
              "            <td>145 Rue Raymond Losserand</td>\n",
              "            <td>6</td>\n",
              "            <td>6</td>\n",
              "            <td>0</td>\n",
              "            <td>0</td>\n",
              "            <td>0</td>\n",
              "            <td>operational</td>\n",
              "            <td>Paris</td>\n",
              "            <td>paris-raymondlosserand-145</td>\n",
              "            <td>STATION</td>\n",
              "            <td>48.83126, 2.313088</td>\n",
              "            <td>75014</td>\n",
              "            <td>Paris/Raymond Losserand/145</td>\n",
              "            <td>operational</td>\n",
              "            <td>0</td>\n",
              "            <td>station</td>\n",
              "            <td>ok</td>\n",
              "            <td>nonexistent</td>\n",
              "            <td>2018</td>\n",
              "            <td>4</td>\n",
              "            <td>6</td>\n",
              "            <td>7</td>\n",
              "            <td>24</td>\n",
              "        </tr>\n",
              "        <tr>\n",
              "            <td>2</td>\n",
              "            <td>2 Avenue John Fitzgerald Kennedy</td>\n",
              "            <td>3</td>\n",
              "            <td>3</td>\n",
              "            <td>0</td>\n",
              "            <td>2</td>\n",
              "            <td>0</td>\n",
              "            <td>operational</td>\n",
              "            <td>Le Bourget</td>\n",
              "            <td>lebourget-johnfitzgeraldkennedy-2</td>\n",
              "            <td>STATION</td>\n",
              "            <td>48.938103, 2.4286035</td>\n",
              "            <td>93350</td>\n",
              "            <td>Le Bourget/John Fitzgerald Kennedy/2</td>\n",
              "            <td>operational</td>\n",
              "            <td>1</td>\n",
              "            <td>station</td>\n",
              "            <td>ok</td>\n",
              "            <td>nonexistent</td>\n",
              "            <td>2018</td>\n",
              "            <td>4</td>\n",
              "            <td>3</td>\n",
              "            <td>20</td>\n",
              "            <td>14</td>\n",
              "        </tr>\n",
              "        <tr>\n",
              "            <td>3</td>\n",
              "            <td>51 Rue EugÃ¨ne OudinÃ©</td>\n",
              "            <td>3</td>\n",
              "            <td>3</td>\n",
              "            <td>1</td>\n",
              "            <td>0</td>\n",
              "            <td>1</td>\n",
              "            <td>operational</td>\n",
              "            <td>Paris</td>\n",
              "            <td>paris-eugeneoudine-51</td>\n",
              "            <td>STATION</td>\n",
              "            <td>48.8250327, 2.3725162</td>\n",
              "            <td>75013</td>\n",
              "            <td>Paris/EugÃ¨ne OudinÃ©/51</td>\n",
              "            <td>operational</td>\n",
              "            <td>2</td>\n",
              "            <td>station</td>\n",
              "            <td>ok</td>\n",
              "            <td>nonexistent</td>\n",
              "            <td>2018</td>\n",
              "            <td>4</td>\n",
              "            <td>4</td>\n",
              "            <td>4</td>\n",
              "            <td>37</td>\n",
              "        </tr>\n",
              "        <tr>\n",
              "            <td>4</td>\n",
              "            <td>6 avenue de la Porte de Champerret</td>\n",
              "            <td>3</td>\n",
              "            <td>3</td>\n",
              "            <td>0</td>\n",
              "            <td>0</td>\n",
              "            <td>0</td>\n",
              "            <td>nonexistent</td>\n",
              "            <td>Paris</td>\n",
              "            <td>paris-portedechamperret-6</td>\n",
              "            <td>PARKING</td>\n",
              "            <td>48.8862632, 2.2874511</td>\n",
              "            <td>75017</td>\n",
              "            <td>Paris/Porte de Champerret/6</td>\n",
              "            <td>operational</td>\n",
              "            <td>3</td>\n",
              "            <td>station</td>\n",
              "            <td>ok</td>\n",
              "            <td>nonexistent</td>\n",
              "            <td>2018</td>\n",
              "            <td>4</td>\n",
              "            <td>8</td>\n",
              "            <td>17</td>\n",
              "            <td>23</td>\n",
              "        </tr>\n",
              "    </tbody>\n",
              "</table>"
            ],
            "text/plain": [
              "[(0, '2 Avenue de Suffren', 0, 0, 0, 0, 0, 'nonexistent', 'Paris', 'paris-suffren-2', 'STATION', '48.857, 2.2917', 75015, 'Paris/Suffren/2', 'operational', 2, 'station', 'ok', 'nonexistent', 2018, 4, 8, 11, 43),\n",
              " (1, '145 Rue Raymond Losserand', 6, 6, 0, 0, 0, 'operational', 'Paris', 'paris-raymondlosserand-145', 'STATION', '48.83126, 2.313088', 75014, 'Paris/Raymond Losserand/145', 'operational', 0, 'station', 'ok', 'nonexistent', 2018, 4, 6, 7, 24),\n",
              " (2, '2 Avenue John Fitzgerald Kennedy', 3, 3, 0, 2, 0, 'operational', 'Le Bourget', 'lebourget-johnfitzgeraldkennedy-2', 'STATION', '48.938103, 2.4286035', 93350, 'Le Bourget/John Fitzgerald Kennedy/2', 'operational', 1, 'station', 'ok', 'nonexistent', 2018, 4, 3, 20, 14),\n",
              " (3, '51 Rue EugÃ¨ne OudinÃ©', 3, 3, 1, 0, 1, 'operational', 'Paris', 'paris-eugeneoudine-51', 'STATION', '48.8250327, 2.3725162', 75013, 'Paris/EugÃ¨ne OudinÃ©/51', 'operational', 2, 'station', 'ok', 'nonexistent', 2018, 4, 4, 4, 37),\n",
              " (4, '6 avenue de la Porte de Champerret', 3, 3, 0, 0, 0, 'nonexistent', 'Paris', 'paris-portedechamperret-6', 'PARKING', '48.8862632, 2.2874511', 75017, 'Paris/Porte de Champerret/6', 'operational', 3, 'station', 'ok', 'nonexistent', 2018, 4, 8, 17, 23)]"
            ]
          },
          "metadata": {},
          "execution_count": 47
        }
      ]
    },
    {
      "cell_type": "markdown",
      "metadata": {
        "id": "05pIxEIyuFhh"
      },
      "source": [
        "**Research Question**\n",
        "\n",
        "**Identify the most popular hour of the day for picking up a shared electric car (Bluecar) in the city of Paris over the month of April 2018.** "
      ]
    },
    {
      "cell_type": "code",
      "metadata": {
        "colab": {
          "base_uri": "https://localhost:8080/",
          "height": 97
        },
        "id": "n8VBan-buQVx",
        "outputId": "d8237376-c765-4557-90f3-4aa6f0a040e5"
      },
      "source": [
        "%%sql\n",
        "SELECT hour, COUNT(hour) from Electric\n",
        "where \"Bluecar counter\" = 0 and \"City\" = \"Paris\"\n",
        "GROUP BY hour\n",
        "ORDER BY COUNT(hour) Desc limit 1;"
      ],
      "execution_count": null,
      "outputs": [
        {
          "output_type": "stream",
          "name": "stdout",
          "text": [
            " * sqlite://\n",
            "Done.\n"
          ]
        },
        {
          "output_type": "execute_result",
          "data": {
            "text/html": [
              "<table>\n",
              "    <thead>\n",
              "        <tr>\n",
              "            <th>hour</th>\n",
              "            <th>COUNT(hour)</th>\n",
              "        </tr>\n",
              "    </thead>\n",
              "    <tbody>\n",
              "        <tr>\n",
              "            <td>2</td>\n",
              "            <td>54</td>\n",
              "        </tr>\n",
              "    </tbody>\n",
              "</table>"
            ],
            "text/plain": [
              "[(2, 54)]"
            ]
          },
          "metadata": {},
          "execution_count": 57
        }
      ]
    },
    {
      "cell_type": "code",
      "metadata": {
        "colab": {
          "base_uri": "https://localhost:8080/",
          "height": 97
        },
        "id": "Wd1Rd3TOvaW3",
        "outputId": "337879c0-7eeb-417d-8d64-fd30b67f0fd4"
      },
      "source": [
        "# What is the most popular hour for returning cars?\n",
        "%%sql\n",
        "SELECT hour, COUNT(hour) from Electric\n",
        "where \"Slots\" = 0 \n",
        "GROUP BY hour\n",
        "ORDER BY COUNT(hour) DESC LIMIT 1 ;"
      ],
      "execution_count": null,
      "outputs": [
        {
          "output_type": "stream",
          "name": "stdout",
          "text": [
            " * sqlite://\n",
            "Done.\n"
          ]
        },
        {
          "output_type": "execute_result",
          "data": {
            "text/html": [
              "<table>\n",
              "    <thead>\n",
              "        <tr>\n",
              "            <th>hour</th>\n",
              "            <th>COUNT(hour)</th>\n",
              "        </tr>\n",
              "    </thead>\n",
              "    <tbody>\n",
              "        <tr>\n",
              "            <td>21</td>\n",
              "            <td>89</td>\n",
              "        </tr>\n",
              "    </tbody>\n",
              "</table>"
            ],
            "text/plain": [
              "[(21, 89)]"
            ]
          },
          "metadata": {},
          "execution_count": 61
        }
      ]
    },
    {
      "cell_type": "code",
      "metadata": {
        "id": "YiGprP5_zwMr",
        "colab": {
          "base_uri": "https://localhost:8080/",
          "height": 97
        },
        "outputId": "50b81346-153b-497b-c135-c5b008f34efb"
      },
      "source": [
        "# What station is the most popular overall?\n",
        "%%sql\n",
        "SELECT \"Public name\", COUNT(\"Public name\") from Electric\n",
        "where \"Cars\" = 0 \n",
        "GROUP BY \"Public name\"\n",
        "ORDER BY COUNT(\"Public name\") DESC limit 1;"
      ],
      "execution_count": null,
      "outputs": [
        {
          "output_type": "stream",
          "name": "stdout",
          "text": [
            " * sqlite://\n",
            "Done.\n"
          ]
        },
        {
          "output_type": "execute_result",
          "data": {
            "text/html": [
              "<table>\n",
              "    <thead>\n",
              "        <tr>\n",
              "            <th>Public name</th>\n",
              "            <th>COUNT(&quot;Public name&quot;)</th>\n",
              "        </tr>\n",
              "    </thead>\n",
              "    <tbody>\n",
              "        <tr>\n",
              "            <td>Paris/Grenelle 31/Parking</td>\n",
              "            <td>11</td>\n",
              "        </tr>\n",
              "    </tbody>\n",
              "</table>"
            ],
            "text/plain": [
              "[('Paris/Grenelle 31/Parking', 11)]"
            ]
          },
          "metadata": {},
          "execution_count": 91
        }
      ]
    },
    {
      "cell_type": "code",
      "metadata": {
        "colab": {
          "base_uri": "https://localhost:8080/",
          "height": 1000
        },
        "id": "Sab9ZeXJ3ktO",
        "outputId": "20255147-0ca4-4bb5-b03c-2d528c201886"
      },
      "source": [
        "# What station is the most popular at the most popular picking hour?\n",
        "%%sql\n",
        "SELECT \"Public name\", COUNT(\"Public name\") from Electric\n",
        "where \"Cars\" = 0 and hour = 2\n",
        "GROUP BY \"Public name\" \n",
        "ORDER BY Count(\"Public name\") DESC;"
      ],
      "execution_count": null,
      "outputs": [
        {
          "output_type": "stream",
          "name": "stdout",
          "text": [
            " * sqlite://\n",
            "Done.\n"
          ]
        },
        {
          "output_type": "execute_result",
          "data": {
            "text/html": [
              "<table>\n",
              "    <thead>\n",
              "        <tr>\n",
              "            <th>Public name</th>\n",
              "            <th>COUNT(&quot;Public name&quot;)</th>\n",
              "        </tr>\n",
              "    </thead>\n",
              "    <tbody>\n",
              "        <tr>\n",
              "            <td>BiÃ¨vres/Gare/12</td>\n",
              "            <td>1</td>\n",
              "        </tr>\n",
              "        <tr>\n",
              "            <td>Bourg-la-Reine/AndrÃ© Theuriet/1</td>\n",
              "            <td>1</td>\n",
              "        </tr>\n",
              "        <tr>\n",
              "            <td>Champigny-sur-Marne/Pierre Renaudel/2</td>\n",
              "            <td>1</td>\n",
              "        </tr>\n",
              "        <tr>\n",
              "            <td>Gennevilliers/De Gaulle/23</td>\n",
              "            <td>1</td>\n",
              "        </tr>\n",
              "        <tr>\n",
              "            <td>Joinville-le-Pont/Mozart/18</td>\n",
              "            <td>1</td>\n",
              "        </tr>\n",
              "        <tr>\n",
              "            <td>Limeil-BrÃ©vannes/Lavoisier/12</td>\n",
              "            <td>1</td>\n",
              "        </tr>\n",
              "        <tr>\n",
              "            <td>Pantin/PrÃ© Saint Gervais/1</td>\n",
              "            <td>1</td>\n",
              "        </tr>\n",
              "        <tr>\n",
              "            <td>Paris/Artois/11</td>\n",
              "            <td>1</td>\n",
              "        </tr>\n",
              "        <tr>\n",
              "            <td>Paris/Bac/142</td>\n",
              "            <td>1</td>\n",
              "        </tr>\n",
              "        <tr>\n",
              "            <td>Paris/Batignolles/9</td>\n",
              "            <td>1</td>\n",
              "        </tr>\n",
              "        <tr>\n",
              "            <td>Paris/Bernardins/23</td>\n",
              "            <td>1</td>\n",
              "        </tr>\n",
              "        <tr>\n",
              "            <td>Paris/Bosquet/41</td>\n",
              "            <td>1</td>\n",
              "        </tr>\n",
              "        <tr>\n",
              "            <td>Paris/Boucry/35</td>\n",
              "            <td>1</td>\n",
              "        </tr>\n",
              "        <tr>\n",
              "            <td>Paris/ChÃ¢teau Landon/24</td>\n",
              "            <td>1</td>\n",
              "        </tr>\n",
              "        <tr>\n",
              "            <td>Paris/Claude Vellefaux/3</td>\n",
              "            <td>1</td>\n",
              "        </tr>\n",
              "        <tr>\n",
              "            <td>Paris/Commandant Lamy/2</td>\n",
              "            <td>1</td>\n",
              "        </tr>\n",
              "        <tr>\n",
              "            <td>Paris/Courcelles/210</td>\n",
              "            <td>1</td>\n",
              "        </tr>\n",
              "        <tr>\n",
              "            <td>Paris/Dante/1</td>\n",
              "            <td>1</td>\n",
              "        </tr>\n",
              "        <tr>\n",
              "            <td>Paris/Dutuit/1</td>\n",
              "            <td>1</td>\n",
              "        </tr>\n",
              "        <tr>\n",
              "            <td>Paris/Etoile Foch/Parking</td>\n",
              "            <td>1</td>\n",
              "        </tr>\n",
              "        <tr>\n",
              "            <td>Paris/Fleurs/23</td>\n",
              "            <td>1</td>\n",
              "        </tr>\n",
              "        <tr>\n",
              "            <td>Paris/Four/38</td>\n",
              "            <td>1</td>\n",
              "        </tr>\n",
              "        <tr>\n",
              "            <td>Paris/Francois 1er/7</td>\n",
              "            <td>1</td>\n",
              "        </tr>\n",
              "        <tr>\n",
              "            <td>Paris/FranÃ§ois 1er/38</td>\n",
              "            <td>1</td>\n",
              "        </tr>\n",
              "        <tr>\n",
              "            <td>Paris/Friedland/42</td>\n",
              "            <td>1</td>\n",
              "        </tr>\n",
              "        <tr>\n",
              "            <td>Paris/Garibaldi Cambronne/Parking</td>\n",
              "            <td>1</td>\n",
              "        </tr>\n",
              "        <tr>\n",
              "            <td>Paris/Georges Mandel/42</td>\n",
              "            <td>1</td>\n",
              "        </tr>\n",
              "        <tr>\n",
              "            <td>Paris/Grande ArmÃ©e/81</td>\n",
              "            <td>1</td>\n",
              "        </tr>\n",
              "        <tr>\n",
              "            <td>Paris/Halles/3</td>\n",
              "            <td>1</td>\n",
              "        </tr>\n",
              "        <tr>\n",
              "            <td>Paris/Haussmann/6</td>\n",
              "            <td>1</td>\n",
              "        </tr>\n",
              "        <tr>\n",
              "            <td>Paris/Henri IV/46</td>\n",
              "            <td>1</td>\n",
              "        </tr>\n",
              "        <tr>\n",
              "            <td>Paris/Invalides/21</td>\n",
              "            <td>1</td>\n",
              "        </tr>\n",
              "        <tr>\n",
              "            <td>Paris/Legendre/22</td>\n",
              "            <td>1</td>\n",
              "        </tr>\n",
              "        <tr>\n",
              "            <td>Paris/LinnÃ©/18</td>\n",
              "            <td>1</td>\n",
              "        </tr>\n",
              "        <tr>\n",
              "            <td>Paris/Louvre/31</td>\n",
              "            <td>1</td>\n",
              "        </tr>\n",
              "        <tr>\n",
              "            <td>Paris/Madame/18</td>\n",
              "            <td>1</td>\n",
              "        </tr>\n",
              "        <tr>\n",
              "            <td>Paris/Madeleine/8</td>\n",
              "            <td>1</td>\n",
              "        </tr>\n",
              "        <tr>\n",
              "            <td>Paris/Megisserie/20</td>\n",
              "            <td>1</td>\n",
              "        </tr>\n",
              "        <tr>\n",
              "            <td>Paris/Michelet/6</td>\n",
              "            <td>1</td>\n",
              "        </tr>\n",
              "        <tr>\n",
              "            <td>Paris/Milton/12</td>\n",
              "            <td>1</td>\n",
              "        </tr>\n",
              "        <tr>\n",
              "            <td>Paris/Montparnasse Raspail/Parking</td>\n",
              "            <td>1</td>\n",
              "        </tr>\n",
              "        <tr>\n",
              "            <td>Paris/Nonnains d&#x27;HyÃ¨res/1</td>\n",
              "            <td>1</td>\n",
              "        </tr>\n",
              "        <tr>\n",
              "            <td>Paris/Ordener/1</td>\n",
              "            <td>1</td>\n",
              "        </tr>\n",
              "        <tr>\n",
              "            <td>Paris/Paix/24</td>\n",
              "            <td>1</td>\n",
              "        </tr>\n",
              "        <tr>\n",
              "            <td>Paris/Pierre Chausson/1</td>\n",
              "            <td>1</td>\n",
              "        </tr>\n",
              "        <tr>\n",
              "            <td>Paris/Quatre septembre/10</td>\n",
              "            <td>1</td>\n",
              "        </tr>\n",
              "        <tr>\n",
              "            <td>Paris/Raspail/136</td>\n",
              "            <td>1</td>\n",
              "        </tr>\n",
              "        <tr>\n",
              "            <td>Paris/Rennes Montparnasse/Parking</td>\n",
              "            <td>1</td>\n",
              "        </tr>\n",
              "        <tr>\n",
              "            <td>Paris/Rennes/105</td>\n",
              "            <td>1</td>\n",
              "        </tr>\n",
              "        <tr>\n",
              "            <td>Paris/Rocroy/15</td>\n",
              "            <td>1</td>\n",
              "        </tr>\n",
              "        <tr>\n",
              "            <td>Paris/RÃ©publique/17</td>\n",
              "            <td>1</td>\n",
              "        </tr>\n",
              "        <tr>\n",
              "            <td>Paris/Saint-Antoine/199</td>\n",
              "            <td>1</td>\n",
              "        </tr>\n",
              "        <tr>\n",
              "            <td>Paris/Saint-Germain des PrÃ©s/Parking</td>\n",
              "            <td>1</td>\n",
              "        </tr>\n",
              "        <tr>\n",
              "            <td>Paris/Saint-Jacques/221</td>\n",
              "            <td>1</td>\n",
              "        </tr>\n",
              "        <tr>\n",
              "            <td>Paris/Saint-Maur/36</td>\n",
              "            <td>1</td>\n",
              "        </tr>\n",
              "        <tr>\n",
              "            <td>Paris/Ternes/73</td>\n",
              "            <td>1</td>\n",
              "        </tr>\n",
              "        <tr>\n",
              "            <td>Paris/Trudaine/26</td>\n",
              "            <td>1</td>\n",
              "        </tr>\n",
              "        <tr>\n",
              "            <td>Paris/UzÃ¨s/1</td>\n",
              "            <td>1</td>\n",
              "        </tr>\n",
              "        <tr>\n",
              "            <td>Paris/Vincent Auriol/81</td>\n",
              "            <td>1</td>\n",
              "        </tr>\n",
              "        <tr>\n",
              "            <td>Paris/Vivienne/43</td>\n",
              "            <td>1</td>\n",
              "        </tr>\n",
              "        <tr>\n",
              "            <td>Paris/Voltaire/8</td>\n",
              "            <td>1</td>\n",
              "        </tr>\n",
              "        <tr>\n",
              "            <td>Rueil-Malmaison/Lavoisier/3</td>\n",
              "            <td>1</td>\n",
              "        </tr>\n",
              "        <tr>\n",
              "            <td>Saint-Ouen/Frida Kahlo/20</td>\n",
              "            <td>1</td>\n",
              "        </tr>\n",
              "        <tr>\n",
              "            <td>Versailles/Bonne Aventure/68</td>\n",
              "            <td>1</td>\n",
              "        </tr>\n",
              "    </tbody>\n",
              "</table>"
            ],
            "text/plain": [
              "[('BiÃ¨vres/Gare/12', 1),\n",
              " ('Bourg-la-Reine/AndrÃ© Theuriet/1', 1),\n",
              " ('Champigny-sur-Marne/Pierre Renaudel/2', 1),\n",
              " ('Gennevilliers/De Gaulle/23', 1),\n",
              " ('Joinville-le-Pont/Mozart/18', 1),\n",
              " ('Limeil-BrÃ©vannes/Lavoisier/12', 1),\n",
              " ('Pantin/PrÃ© Saint Gervais/1', 1),\n",
              " ('Paris/Artois/11', 1),\n",
              " ('Paris/Bac/142', 1),\n",
              " ('Paris/Batignolles/9', 1),\n",
              " ('Paris/Bernardins/23', 1),\n",
              " ('Paris/Bosquet/41', 1),\n",
              " ('Paris/Boucry/35', 1),\n",
              " ('Paris/ChÃ¢teau Landon/24', 1),\n",
              " ('Paris/Claude Vellefaux/3', 1),\n",
              " ('Paris/Commandant Lamy/2', 1),\n",
              " ('Paris/Courcelles/210', 1),\n",
              " ('Paris/Dante/1', 1),\n",
              " ('Paris/Dutuit/1', 1),\n",
              " ('Paris/Etoile Foch/Parking', 1),\n",
              " ('Paris/Fleurs/23', 1),\n",
              " ('Paris/Four/38', 1),\n",
              " ('Paris/Francois 1er/7', 1),\n",
              " ('Paris/FranÃ§ois 1er/38', 1),\n",
              " ('Paris/Friedland/42', 1),\n",
              " ('Paris/Garibaldi Cambronne/Parking', 1),\n",
              " ('Paris/Georges Mandel/42', 1),\n",
              " ('Paris/Grande ArmÃ©e/81', 1),\n",
              " ('Paris/Halles/3', 1),\n",
              " ('Paris/Haussmann/6', 1),\n",
              " ('Paris/Henri IV/46', 1),\n",
              " ('Paris/Invalides/21', 1),\n",
              " ('Paris/Legendre/22', 1),\n",
              " ('Paris/LinnÃ©/18', 1),\n",
              " ('Paris/Louvre/31', 1),\n",
              " ('Paris/Madame/18', 1),\n",
              " ('Paris/Madeleine/8', 1),\n",
              " ('Paris/Megisserie/20', 1),\n",
              " ('Paris/Michelet/6', 1),\n",
              " ('Paris/Milton/12', 1),\n",
              " ('Paris/Montparnasse Raspail/Parking', 1),\n",
              " (\"Paris/Nonnains d'HyÃ¨res/1\", 1),\n",
              " ('Paris/Ordener/1', 1),\n",
              " ('Paris/Paix/24', 1),\n",
              " ('Paris/Pierre Chausson/1', 1),\n",
              " ('Paris/Quatre septembre/10', 1),\n",
              " ('Paris/Raspail/136', 1),\n",
              " ('Paris/Rennes Montparnasse/Parking', 1),\n",
              " ('Paris/Rennes/105', 1),\n",
              " ('Paris/Rocroy/15', 1),\n",
              " ('Paris/RÃ©publique/17', 1),\n",
              " ('Paris/Saint-Antoine/199', 1),\n",
              " ('Paris/Saint-Germain des PrÃ©s/Parking', 1),\n",
              " ('Paris/Saint-Jacques/221', 1),\n",
              " ('Paris/Saint-Maur/36', 1),\n",
              " ('Paris/Ternes/73', 1),\n",
              " ('Paris/Trudaine/26', 1),\n",
              " ('Paris/UzÃ¨s/1', 1),\n",
              " ('Paris/Vincent Auriol/81', 1),\n",
              " ('Paris/Vivienne/43', 1),\n",
              " ('Paris/Voltaire/8', 1),\n",
              " ('Rueil-Malmaison/Lavoisier/3', 1),\n",
              " ('Saint-Ouen/Frida Kahlo/20', 1),\n",
              " ('Versailles/Bonne Aventure/68', 1)]"
            ]
          },
          "metadata": {},
          "execution_count": 107
        }
      ]
    },
    {
      "cell_type": "code",
      "metadata": {
        "colab": {
          "base_uri": "https://localhost:8080/",
          "height": 97
        },
        "id": "rYekp6A95QTW",
        "outputId": "d660902c-154e-49b4-9a75-f0406dccef4f"
      },
      "source": [
        "# What postal code is the most popular for picking up Blue cars overall?\n",
        "%%sql\n",
        "SELECT \"Postal code\", COUNT(\"Postal code\") from Electric\n",
        "where \"Bluecar counter\" = 0 \n",
        "GROUP BY \"Postal code\"\n",
        "ORDER BY COUNT(\"Postal code\") Desc limit 1;"
      ],
      "execution_count": null,
      "outputs": [
        {
          "output_type": "stream",
          "name": "stdout",
          "text": [
            " * sqlite://\n",
            "Done.\n"
          ]
        },
        {
          "output_type": "execute_result",
          "data": {
            "text/html": [
              "<table>\n",
              "    <thead>\n",
              "        <tr>\n",
              "            <th>Postal code</th>\n",
              "            <th>COUNT(&quot;Postal code&quot;)</th>\n",
              "        </tr>\n",
              "    </thead>\n",
              "    <tbody>\n",
              "        <tr>\n",
              "            <td>75008</td>\n",
              "            <td>94</td>\n",
              "        </tr>\n",
              "    </tbody>\n",
              "</table>"
            ],
            "text/plain": [
              "[(75008, 94)]"
            ]
          },
          "metadata": {},
          "execution_count": 93
        }
      ]
    },
    {
      "cell_type": "code",
      "metadata": {
        "colab": {
          "base_uri": "https://localhost:8080/",
          "height": 310
        },
        "id": "_Q5moyjc6jLI",
        "outputId": "3343e1b4-c8d3-4a53-b825-870b0f4bdcfe"
      },
      "source": [
        "# Does the most popular station belong to that postal code?\n",
        "%%sql\n",
        "Select \"Postal code\" from Electric\n",
        "where \"Public name\" = \"Paris/Grenelle 31/Parking\";"
      ],
      "execution_count": null,
      "outputs": [
        {
          "output_type": "stream",
          "name": "stdout",
          "text": [
            " * sqlite://\n",
            "Done.\n"
          ]
        },
        {
          "output_type": "execute_result",
          "data": {
            "text/html": [
              "<table>\n",
              "    <thead>\n",
              "        <tr>\n",
              "            <th>Postal code</th>\n",
              "        </tr>\n",
              "    </thead>\n",
              "    <tbody>\n",
              "        <tr>\n",
              "            <td>75015</td>\n",
              "        </tr>\n",
              "        <tr>\n",
              "            <td>75015</td>\n",
              "        </tr>\n",
              "        <tr>\n",
              "            <td>75015</td>\n",
              "        </tr>\n",
              "        <tr>\n",
              "            <td>75015</td>\n",
              "        </tr>\n",
              "        <tr>\n",
              "            <td>75015</td>\n",
              "        </tr>\n",
              "        <tr>\n",
              "            <td>75015</td>\n",
              "        </tr>\n",
              "        <tr>\n",
              "            <td>75015</td>\n",
              "        </tr>\n",
              "        <tr>\n",
              "            <td>75015</td>\n",
              "        </tr>\n",
              "        <tr>\n",
              "            <td>75015</td>\n",
              "        </tr>\n",
              "        <tr>\n",
              "            <td>75015</td>\n",
              "        </tr>\n",
              "        <tr>\n",
              "            <td>75015</td>\n",
              "        </tr>\n",
              "    </tbody>\n",
              "</table>"
            ],
            "text/plain": [
              "[(75015,),\n",
              " (75015,),\n",
              " (75015,),\n",
              " (75015,),\n",
              " (75015,),\n",
              " (75015,),\n",
              " (75015,),\n",
              " (75015,),\n",
              " (75015,),\n",
              " (75015,),\n",
              " (75015,)]"
            ]
          },
          "metadata": {},
          "execution_count": 94
        }
      ]
    },
    {
      "cell_type": "markdown",
      "metadata": {
        "id": "HN1sZVbp8VkA"
      },
      "source": [
        "No the most popular station does not belong to that postal code since the postal code for the most popular station is 75015 and the postal code for the station that's most popluar for picking blue cars is 75008"
      ]
    },
    {
      "cell_type": "code",
      "metadata": {
        "colab": {
          "base_uri": "https://localhost:8080/",
          "height": 97
        },
        "id": "gqIMgAhB7sxm",
        "outputId": "ad121da5-4371-434a-ce96-9c9037d9fa2e"
      },
      "source": [
        "# What postal code is the most popular for picking up Blue cars at the most popular picking hour?\n",
        "%%sql\n",
        "SELECT \"Postal code\", COUNT(\"Postal code\") from Electric\n",
        "where \"Bluecar counter\" = 0 and hour = 2\n",
        "GROUP BY \"Postal code\"\n",
        "ORDER BY COUNT(\"Postal code\") Desc limit 1;"
      ],
      "execution_count": null,
      "outputs": [
        {
          "output_type": "stream",
          "name": "stdout",
          "text": [
            " * sqlite://\n",
            "Done.\n"
          ]
        },
        {
          "output_type": "execute_result",
          "data": {
            "text/html": [
              "<table>\n",
              "    <thead>\n",
              "        <tr>\n",
              "            <th>Postal code</th>\n",
              "            <th>COUNT(&quot;Postal code&quot;)</th>\n",
              "        </tr>\n",
              "    </thead>\n",
              "    <tbody>\n",
              "        <tr>\n",
              "            <td>75006</td>\n",
              "            <td>7</td>\n",
              "        </tr>\n",
              "    </tbody>\n",
              "</table>"
            ],
            "text/plain": [
              "[(75006, 7)]"
            ]
          },
          "metadata": {},
          "execution_count": 96
        }
      ]
    },
    {
      "cell_type": "code",
      "metadata": {
        "colab": {
          "base_uri": "https://localhost:8080/",
          "height": 310
        },
        "id": "RPTdg4Ld93nT",
        "outputId": "8e6a29bd-8989-4240-de98-f1a7385cf5cb"
      },
      "source": [
        "# Does the most popular station belong to that postal code?\n",
        "%%sql\n",
        "Select \"Postal code\" from Electric\n",
        "where \"Public name\" = \"Paris/Grenelle 31/Parking\";"
      ],
      "execution_count": null,
      "outputs": [
        {
          "output_type": "stream",
          "name": "stdout",
          "text": [
            " * sqlite://\n",
            "Done.\n"
          ]
        },
        {
          "output_type": "execute_result",
          "data": {
            "text/html": [
              "<table>\n",
              "    <thead>\n",
              "        <tr>\n",
              "            <th>Postal code</th>\n",
              "        </tr>\n",
              "    </thead>\n",
              "    <tbody>\n",
              "        <tr>\n",
              "            <td>75015</td>\n",
              "        </tr>\n",
              "        <tr>\n",
              "            <td>75015</td>\n",
              "        </tr>\n",
              "        <tr>\n",
              "            <td>75015</td>\n",
              "        </tr>\n",
              "        <tr>\n",
              "            <td>75015</td>\n",
              "        </tr>\n",
              "        <tr>\n",
              "            <td>75015</td>\n",
              "        </tr>\n",
              "        <tr>\n",
              "            <td>75015</td>\n",
              "        </tr>\n",
              "        <tr>\n",
              "            <td>75015</td>\n",
              "        </tr>\n",
              "        <tr>\n",
              "            <td>75015</td>\n",
              "        </tr>\n",
              "        <tr>\n",
              "            <td>75015</td>\n",
              "        </tr>\n",
              "        <tr>\n",
              "            <td>75015</td>\n",
              "        </tr>\n",
              "        <tr>\n",
              "            <td>75015</td>\n",
              "        </tr>\n",
              "    </tbody>\n",
              "</table>"
            ],
            "text/plain": [
              "[(75015,),\n",
              " (75015,),\n",
              " (75015,),\n",
              " (75015,),\n",
              " (75015,),\n",
              " (75015,),\n",
              " (75015,),\n",
              " (75015,),\n",
              " (75015,),\n",
              " (75015,),\n",
              " (75015,)]"
            ]
          },
          "metadata": {},
          "execution_count": 97
        }
      ]
    },
    {
      "cell_type": "markdown",
      "metadata": {
        "id": "poIi8zH7_sO0"
      },
      "source": [
        "No the most popular station does not belong to that postal code since the postal code for the most popular station is 75015 and the postal code for the station that's most popluar for picking blue cars at the most popular picking hour is 75006"
      ]
    },
    {
      "cell_type": "markdown",
      "metadata": {
        "id": "7YjBKgPUACI8"
      },
      "source": [
        "Do the results change if you consider Utilib and Utilib 1.4 instead of Blue cars? "
      ]
    },
    {
      "cell_type": "code",
      "metadata": {
        "colab": {
          "base_uri": "https://localhost:8080/",
          "height": 97
        },
        "id": "XaK-8j5J_0QS",
        "outputId": "270680b4-b3da-4909-ce4e-f19adda0b21b"
      },
      "source": [
        "# What postal code is the most popular for picking up Utilib cars overall?\n",
        "%%sql\n",
        "SELECT \"Postal code\", COUNT(\"Postal code\") from Electric\n",
        "where \"Utilib counter\" = 0 \n",
        "GROUP BY \"Postal code\"\n",
        "ORDER BY COUNT(\"Postal code\") Desc limit 1;"
      ],
      "execution_count": null,
      "outputs": [
        {
          "output_type": "stream",
          "name": "stdout",
          "text": [
            " * sqlite://\n",
            "Done.\n"
          ]
        },
        {
          "output_type": "execute_result",
          "data": {
            "text/html": [
              "<table>\n",
              "    <thead>\n",
              "        <tr>\n",
              "            <th>Postal code</th>\n",
              "            <th>COUNT(&quot;Postal code&quot;)</th>\n",
              "        </tr>\n",
              "    </thead>\n",
              "    <tbody>\n",
              "        <tr>\n",
              "            <td>75015</td>\n",
              "            <td>257</td>\n",
              "        </tr>\n",
              "    </tbody>\n",
              "</table>"
            ],
            "text/plain": [
              "[(75015, 257)]"
            ]
          },
          "metadata": {},
          "execution_count": 99
        }
      ]
    },
    {
      "cell_type": "code",
      "metadata": {
        "colab": {
          "base_uri": "https://localhost:8080/",
          "height": 310
        },
        "id": "BUKdsYCQASKE",
        "outputId": "20c5e715-002c-4005-ff79-88ca945e0f6c"
      },
      "source": [
        "# Does the most popular station belong to that postal code?\n",
        "%%sql\n",
        "Select \"Postal code\" from Electric\n",
        "where \"Public name\" = \"Paris/Grenelle 31/Parking\";"
      ],
      "execution_count": null,
      "outputs": [
        {
          "output_type": "stream",
          "name": "stdout",
          "text": [
            " * sqlite://\n",
            "Done.\n"
          ]
        },
        {
          "output_type": "execute_result",
          "data": {
            "text/html": [
              "<table>\n",
              "    <thead>\n",
              "        <tr>\n",
              "            <th>Postal code</th>\n",
              "        </tr>\n",
              "    </thead>\n",
              "    <tbody>\n",
              "        <tr>\n",
              "            <td>75015</td>\n",
              "        </tr>\n",
              "        <tr>\n",
              "            <td>75015</td>\n",
              "        </tr>\n",
              "        <tr>\n",
              "            <td>75015</td>\n",
              "        </tr>\n",
              "        <tr>\n",
              "            <td>75015</td>\n",
              "        </tr>\n",
              "        <tr>\n",
              "            <td>75015</td>\n",
              "        </tr>\n",
              "        <tr>\n",
              "            <td>75015</td>\n",
              "        </tr>\n",
              "        <tr>\n",
              "            <td>75015</td>\n",
              "        </tr>\n",
              "        <tr>\n",
              "            <td>75015</td>\n",
              "        </tr>\n",
              "        <tr>\n",
              "            <td>75015</td>\n",
              "        </tr>\n",
              "        <tr>\n",
              "            <td>75015</td>\n",
              "        </tr>\n",
              "        <tr>\n",
              "            <td>75015</td>\n",
              "        </tr>\n",
              "    </tbody>\n",
              "</table>"
            ],
            "text/plain": [
              "[(75015,),\n",
              " (75015,),\n",
              " (75015,),\n",
              " (75015,),\n",
              " (75015,),\n",
              " (75015,),\n",
              " (75015,),\n",
              " (75015,),\n",
              " (75015,),\n",
              " (75015,),\n",
              " (75015,)]"
            ]
          },
          "metadata": {},
          "execution_count": 100
        }
      ]
    },
    {
      "cell_type": "markdown",
      "metadata": {
        "id": "15zVdFmlArjo"
      },
      "source": [
        "Yes the most popular station belongs to that postal code"
      ]
    },
    {
      "cell_type": "code",
      "metadata": {
        "colab": {
          "base_uri": "https://localhost:8080/",
          "height": 97
        },
        "id": "Sq-tIielAyIE",
        "outputId": "a4a81168-fab0-452f-cd01-8f900a2a85ea"
      },
      "source": [
        "# What postal code is the most popular for picking up Utilib 1.4 cars overall?\n",
        "%%sql\n",
        "SELECT \"Postal code\", COUNT(\"Postal code\") from Electric\n",
        "where \"Utilib 1.4 counter\" = 0 \n",
        "GROUP BY \"Postal code\"\n",
        "ORDER BY COUNT(\"Postal code\") Desc limit 1;"
      ],
      "execution_count": null,
      "outputs": [
        {
          "output_type": "stream",
          "name": "stdout",
          "text": [
            " * sqlite://\n",
            "Done.\n"
          ]
        },
        {
          "output_type": "execute_result",
          "data": {
            "text/html": [
              "<table>\n",
              "    <thead>\n",
              "        <tr>\n",
              "            <th>Postal code</th>\n",
              "            <th>COUNT(&quot;Postal code&quot;)</th>\n",
              "        </tr>\n",
              "    </thead>\n",
              "    <tbody>\n",
              "        <tr>\n",
              "            <td>75015</td>\n",
              "            <td>245</td>\n",
              "        </tr>\n",
              "    </tbody>\n",
              "</table>"
            ],
            "text/plain": [
              "[(75015, 245)]"
            ]
          },
          "metadata": {},
          "execution_count": 101
        }
      ]
    },
    {
      "cell_type": "code",
      "metadata": {
        "colab": {
          "base_uri": "https://localhost:8080/",
          "height": 310
        },
        "id": "qKtbdmDPA5XA",
        "outputId": "56fe688b-3d7c-4c0f-8282-9d43a7d1a79e"
      },
      "source": [
        "# Does the most popular station belong to that postal code?\n",
        "%%sql\n",
        "Select \"Postal code\" from Electric\n",
        "where \"Public name\" = \"Paris/Grenelle 31/Parking\";"
      ],
      "execution_count": null,
      "outputs": [
        {
          "output_type": "stream",
          "name": "stdout",
          "text": [
            " * sqlite://\n",
            "Done.\n"
          ]
        },
        {
          "output_type": "execute_result",
          "data": {
            "text/html": [
              "<table>\n",
              "    <thead>\n",
              "        <tr>\n",
              "            <th>Postal code</th>\n",
              "        </tr>\n",
              "    </thead>\n",
              "    <tbody>\n",
              "        <tr>\n",
              "            <td>75015</td>\n",
              "        </tr>\n",
              "        <tr>\n",
              "            <td>75015</td>\n",
              "        </tr>\n",
              "        <tr>\n",
              "            <td>75015</td>\n",
              "        </tr>\n",
              "        <tr>\n",
              "            <td>75015</td>\n",
              "        </tr>\n",
              "        <tr>\n",
              "            <td>75015</td>\n",
              "        </tr>\n",
              "        <tr>\n",
              "            <td>75015</td>\n",
              "        </tr>\n",
              "        <tr>\n",
              "            <td>75015</td>\n",
              "        </tr>\n",
              "        <tr>\n",
              "            <td>75015</td>\n",
              "        </tr>\n",
              "        <tr>\n",
              "            <td>75015</td>\n",
              "        </tr>\n",
              "        <tr>\n",
              "            <td>75015</td>\n",
              "        </tr>\n",
              "        <tr>\n",
              "            <td>75015</td>\n",
              "        </tr>\n",
              "    </tbody>\n",
              "</table>"
            ],
            "text/plain": [
              "[(75015,),\n",
              " (75015,),\n",
              " (75015,),\n",
              " (75015,),\n",
              " (75015,),\n",
              " (75015,),\n",
              " (75015,),\n",
              " (75015,),\n",
              " (75015,),\n",
              " (75015,),\n",
              " (75015,)]"
            ]
          },
          "metadata": {},
          "execution_count": 102
        }
      ]
    },
    {
      "cell_type": "markdown",
      "metadata": {
        "id": "EFsEd5_NBEDc"
      },
      "source": [
        "Yes the most popular station belongs to that postal code"
      ]
    },
    {
      "cell_type": "code",
      "metadata": {
        "colab": {
          "base_uri": "https://localhost:8080/",
          "height": 97
        },
        "id": "HtVV7E5aBOsF",
        "outputId": "55cfa33d-3dd7-4c19-bf5a-306d1a134a2d"
      },
      "source": [
        "# What postal code is the most popular for picking up Utilib cars at the most popular picking hour?\n",
        "%%sql\n",
        "SELECT \"Postal code\", COUNT(\"Postal code\") from Electric\n",
        "where \"Utilib counter\" = 0 and hour = 2\n",
        "GROUP BY \"Postal code\"\n",
        "ORDER BY COUNT(\"Postal code\") Desc limit 1;"
      ],
      "execution_count": null,
      "outputs": [
        {
          "output_type": "stream",
          "name": "stdout",
          "text": [
            " * sqlite://\n",
            "Done.\n"
          ]
        },
        {
          "output_type": "execute_result",
          "data": {
            "text/html": [
              "<table>\n",
              "    <thead>\n",
              "        <tr>\n",
              "            <th>Postal code</th>\n",
              "            <th>COUNT(&quot;Postal code&quot;)</th>\n",
              "        </tr>\n",
              "    </thead>\n",
              "    <tbody>\n",
              "        <tr>\n",
              "            <td>75005</td>\n",
              "            <td>10</td>\n",
              "        </tr>\n",
              "    </tbody>\n",
              "</table>"
            ],
            "text/plain": [
              "[(75005, 10)]"
            ]
          },
          "metadata": {},
          "execution_count": 103
        }
      ]
    },
    {
      "cell_type": "code",
      "metadata": {
        "colab": {
          "base_uri": "https://localhost:8080/",
          "height": 310
        },
        "id": "bu9_65ufBUpn",
        "outputId": "a7f63471-f8cf-4a76-8d90-45add5222c5a"
      },
      "source": [
        "# Does the most popular station belong to that postal code?\n",
        "%%sql\n",
        "Select \"Postal code\" from Electric\n",
        "where \"Public name\" = \"Paris/Grenelle 31/Parking\";"
      ],
      "execution_count": null,
      "outputs": [
        {
          "output_type": "stream",
          "name": "stdout",
          "text": [
            " * sqlite://\n",
            "Done.\n"
          ]
        },
        {
          "output_type": "execute_result",
          "data": {
            "text/html": [
              "<table>\n",
              "    <thead>\n",
              "        <tr>\n",
              "            <th>Postal code</th>\n",
              "        </tr>\n",
              "    </thead>\n",
              "    <tbody>\n",
              "        <tr>\n",
              "            <td>75015</td>\n",
              "        </tr>\n",
              "        <tr>\n",
              "            <td>75015</td>\n",
              "        </tr>\n",
              "        <tr>\n",
              "            <td>75015</td>\n",
              "        </tr>\n",
              "        <tr>\n",
              "            <td>75015</td>\n",
              "        </tr>\n",
              "        <tr>\n",
              "            <td>75015</td>\n",
              "        </tr>\n",
              "        <tr>\n",
              "            <td>75015</td>\n",
              "        </tr>\n",
              "        <tr>\n",
              "            <td>75015</td>\n",
              "        </tr>\n",
              "        <tr>\n",
              "            <td>75015</td>\n",
              "        </tr>\n",
              "        <tr>\n",
              "            <td>75015</td>\n",
              "        </tr>\n",
              "        <tr>\n",
              "            <td>75015</td>\n",
              "        </tr>\n",
              "        <tr>\n",
              "            <td>75015</td>\n",
              "        </tr>\n",
              "    </tbody>\n",
              "</table>"
            ],
            "text/plain": [
              "[(75015,),\n",
              " (75015,),\n",
              " (75015,),\n",
              " (75015,),\n",
              " (75015,),\n",
              " (75015,),\n",
              " (75015,),\n",
              " (75015,),\n",
              " (75015,),\n",
              " (75015,),\n",
              " (75015,)]"
            ]
          },
          "metadata": {},
          "execution_count": 104
        }
      ]
    },
    {
      "cell_type": "markdown",
      "metadata": {
        "id": "5IWJefNPBlSj"
      },
      "source": [
        "No the most popular station does not belong to that postal code since the postal code for the most popular station is 75015 and the postal code for the station that's most popluar for picking Utilib cars at the most popular picking hour is 75005"
      ]
    },
    {
      "cell_type": "code",
      "metadata": {
        "colab": {
          "base_uri": "https://localhost:8080/",
          "height": 97
        },
        "id": "5JNe3AVWBrY6",
        "outputId": "a718385a-8e68-4d2f-f471-33f188e9961d"
      },
      "source": [
        "# What postal code is the most popular for picking up Utilib 1.4 cars at the most popular picking hour?\n",
        "%%sql\n",
        "SELECT \"Postal code\", COUNT(\"Postal code\") from Electric\n",
        "where \"Utilib 1.4 counter\" = 0 and hour = 2\n",
        "GROUP BY \"Postal code\"\n",
        "ORDER BY COUNT(\"Postal code\") Desc limit 1;"
      ],
      "execution_count": null,
      "outputs": [
        {
          "output_type": "stream",
          "name": "stdout",
          "text": [
            " * sqlite://\n",
            "Done.\n"
          ]
        },
        {
          "output_type": "execute_result",
          "data": {
            "text/html": [
              "<table>\n",
              "    <thead>\n",
              "        <tr>\n",
              "            <th>Postal code</th>\n",
              "            <th>COUNT(&quot;Postal code&quot;)</th>\n",
              "        </tr>\n",
              "    </thead>\n",
              "    <tbody>\n",
              "        <tr>\n",
              "            <td>75011</td>\n",
              "            <td>11</td>\n",
              "        </tr>\n",
              "    </tbody>\n",
              "</table>"
            ],
            "text/plain": [
              "[(75011, 11)]"
            ]
          },
          "metadata": {},
          "execution_count": 105
        }
      ]
    },
    {
      "cell_type": "code",
      "metadata": {
        "colab": {
          "base_uri": "https://localhost:8080/",
          "height": 310
        },
        "id": "FBITFJe9BxzD",
        "outputId": "41ceff94-c1f3-4651-c642-877ff1d9fdba"
      },
      "source": [
        "# Does the most popular station belong to that postal code?\n",
        "%%sql\n",
        "Select \"Postal code\" from Electric\n",
        "where \"Public name\" = \"Paris/Grenelle 31/Parking\";"
      ],
      "execution_count": null,
      "outputs": [
        {
          "output_type": "stream",
          "name": "stdout",
          "text": [
            " * sqlite://\n",
            "Done.\n"
          ]
        },
        {
          "output_type": "execute_result",
          "data": {
            "text/html": [
              "<table>\n",
              "    <thead>\n",
              "        <tr>\n",
              "            <th>Postal code</th>\n",
              "        </tr>\n",
              "    </thead>\n",
              "    <tbody>\n",
              "        <tr>\n",
              "            <td>75015</td>\n",
              "        </tr>\n",
              "        <tr>\n",
              "            <td>75015</td>\n",
              "        </tr>\n",
              "        <tr>\n",
              "            <td>75015</td>\n",
              "        </tr>\n",
              "        <tr>\n",
              "            <td>75015</td>\n",
              "        </tr>\n",
              "        <tr>\n",
              "            <td>75015</td>\n",
              "        </tr>\n",
              "        <tr>\n",
              "            <td>75015</td>\n",
              "        </tr>\n",
              "        <tr>\n",
              "            <td>75015</td>\n",
              "        </tr>\n",
              "        <tr>\n",
              "            <td>75015</td>\n",
              "        </tr>\n",
              "        <tr>\n",
              "            <td>75015</td>\n",
              "        </tr>\n",
              "        <tr>\n",
              "            <td>75015</td>\n",
              "        </tr>\n",
              "        <tr>\n",
              "            <td>75015</td>\n",
              "        </tr>\n",
              "    </tbody>\n",
              "</table>"
            ],
            "text/plain": [
              "[(75015,),\n",
              " (75015,),\n",
              " (75015,),\n",
              " (75015,),\n",
              " (75015,),\n",
              " (75015,),\n",
              " (75015,),\n",
              " (75015,),\n",
              " (75015,),\n",
              " (75015,),\n",
              " (75015,)]"
            ]
          },
          "metadata": {},
          "execution_count": 106
        }
      ]
    },
    {
      "cell_type": "markdown",
      "metadata": {
        "id": "R86CedcPB45x"
      },
      "source": [
        "No the most popular station does not belong to that postal code since the postal code for the most popular station is 75015 and the postal code for the station that's most popluar for picking Utilib 1.4 cars at the most popular picking hour is 75011"
      ]
    },
    {
      "cell_type": "markdown",
      "metadata": {
        "id": "jrHifCnvCBJS"
      },
      "source": [
        "**YES THE RESULTS CHANGE IF YOU CONSIDER UTILIB AND UTILIB 1.4 CARS**"
      ]
    },
    {
      "cell_type": "markdown",
      "metadata": {
        "id": "MkBY0Vi2FmBk"
      },
      "source": [
        "Here's the link to the Github repository\n",
        "https://github.com/BrianGakungi/John-Njagi-Autolib-Analysis.git\n"
      ]
    },
    {
      "cell_type": "markdown",
      "metadata": {
        "id": "U6xlZGlSeXMx"
      },
      "source": [
        "Here's the link to the JIRA Board \n",
        "https://johngakungi.atlassian.net/jira/software/projects/M1/boards/1"
      ]
    }
  ]
}